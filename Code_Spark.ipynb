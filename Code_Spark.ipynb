{
 "cells": [
  {
   "cell_type": "code",
   "execution_count": 1,
   "id": "extra-vector",
   "metadata": {},
   "outputs": [],
   "source": [
    "from pyspark.sql import SparkSession\n",
    "from pyspark.sql.types import *\n",
    "from pyspark.sql import functions as F\n",
    "from pyspark.sql.types import *\n",
    "from pyspark.sql.functions import udf, hour, mean, month, year, to_date\n",
    "from pyspark.sql.window import Window"
   ]
  },
  {
   "cell_type": "code",
   "execution_count": 2,
   "id": "unlimited-sight",
   "metadata": {},
   "outputs": [],
   "source": [
    "spark = SparkSession.builder.getOrCreate()"
   ]
  },
  {
   "cell_type": "code",
   "execution_count": 3,
   "id": "massive-environment",
   "metadata": {},
   "outputs": [],
   "source": [
    "spark.conf.set('spark.sql.repl.eagerEval.enabled', True)"
   ]
  },
  {
   "cell_type": "code",
   "execution_count": 4,
   "id": "operational-measurement",
   "metadata": {},
   "outputs": [
    {
     "data": {
      "text/html": [
       "\n",
       "            <div>\n",
       "                <p><b>SparkSession - in-memory</b></p>\n",
       "                \n",
       "        <div>\n",
       "            <p><b>SparkContext</b></p>\n",
       "\n",
       "            <p><a href=\"http://60c86dab07d6:4040\">Spark UI</a></p>\n",
       "\n",
       "            <dl>\n",
       "              <dt>Version</dt>\n",
       "                <dd><code>v3.0.1</code></dd>\n",
       "              <dt>Master</dt>\n",
       "                <dd><code>local[*]</code></dd>\n",
       "              <dt>AppName</dt>\n",
       "                <dd><code>pyspark-shell</code></dd>\n",
       "            </dl>\n",
       "        </div>\n",
       "        \n",
       "            </div>\n",
       "        "
      ],
      "text/plain": [
       "<pyspark.sql.session.SparkSession at 0x7fc2040b74c0>"
      ]
     },
     "execution_count": 4,
     "metadata": {},
     "output_type": "execute_result"
    }
   ],
   "source": [
    "spark"
   ]
  },
  {
   "cell_type": "markdown",
   "id": "neither-sunset",
   "metadata": {},
   "source": [
    "# Schema de données"
   ]
  },
  {
   "cell_type": "code",
   "execution_count": 5,
   "id": "expanded-hartford",
   "metadata": {},
   "outputs": [],
   "source": [
    "schema = StructType() \\\n",
    "    .add(\"STATION\", IntegerType(), False) \\\n",
    "    .add(\"DATE\", TimestampType(), False) \\\n",
    "    .add(\"SOURCE\", IntegerType(), True) \\\n",
    "    .add(\"LATITUDE\", FloatType(), True) \\\n",
    "    .add(\"LONGITUDE\", FloatType(), True) \\\n",
    "    .add(\"ELEVATION\", StringType(), True) \\\n",
    "    .add(\"NAME\", StringType(), True) \\\n",
    "    .add(\"REPORT_TYPE\", StringType(), True) \\\n",
    "    .add(\"CALL_SIGN\", StringType(), True) \\\n",
    "    .add(\"QUALITY_CONTROL\", StringType(), True) \\\n",
    "    .add(\"WND\", StringType(), True) \\\n",
    "    .add(\"CIG\", StringType(), True) \\\n",
    "    .add(\"VIS\", StringType(), True) \\\n",
    "    .add(\"TMP\", StringType(), True) \\\n",
    "    .add(\"DEW\", StringType(), True) \\\n",
    "    .add(\"SLP\", StringType(), True) \\\n",
    "    .add(\"GA1\", StringType(), True) \\\n",
    "    .add(\"GA2\", StringType(), True) \\\n",
    "    .add(\"GA3\", StringType(), True) \\\n",
    "    .add(\"GA4\", StringType(), True) \\\n",
    "    .add(\"GF1\", StringType(), True) \\\n",
    "    .add(\"MA1\", StringType(), True) \\\n",
    "    .add(\"MW1\", StringType(), True) \\\n",
    "    .add(\"MW2\", StringType(), True) \\\n",
    "    .add(\"MW3\", StringType(), True) \\\n",
    "    .add(\"OC1\", StringType(), True) \\\n",
    "    .add(\"REM\", StringType(), True) \\\n",
    "    .add(\"EQD\", StringType(), True)"
   ]
  },
  {
   "cell_type": "markdown",
   "id": "moving-ending",
   "metadata": {},
   "source": [
    "# Chargement des données"
   ]
  },
  {
   "cell_type": "code",
   "execution_count": 6,
   "id": "aboriginal-opera",
   "metadata": {},
   "outputs": [],
   "source": [
    "# station_2018 = spark.read.load(\"./data/2018\", format=\"csv\", header=True, schema=schema, inferSchema=False)\n",
    "# station_2018.show()"
   ]
  },
  {
   "cell_type": "code",
   "execution_count": 7,
   "id": "built-header",
   "metadata": {},
   "outputs": [],
   "source": [
    "cols_of_interest = (\"STATION\",\"DATE\",\"SOURCE\",\"LATITUDE\",\"LONGITUDE\",\"ELEVATION\",\"NAME\",\"REPORT_TYPE\",\"CALL_SIGN\",\"QUALITY_CONTROL\",\"WND\",\"CIG\",\"VIS\",\"TMP\",\"DEW\",\"SLP\")\n",
    "\n",
    "all_stations = spark.read.load(\"./data/*\", format=\"csv\", header=True, schema=schema, inferSchema=False).select(*cols_of_interest)"
   ]
  },
  {
   "cell_type": "code",
   "execution_count": 8,
   "id": "equipped-tulsa",
   "metadata": {},
   "outputs": [
    {
     "data": {
      "text/html": [
       "<table border='1'>\n",
       "<tr><th>STATION</th><th>DATE</th><th>SOURCE</th><th>LATITUDE</th><th>LONGITUDE</th><th>ELEVATION</th><th>NAME</th><th>REPORT_TYPE</th><th>CALL_SIGN</th><th>QUALITY_CONTROL</th><th>WND</th><th>CIG</th><th>VIS</th><th>TMP</th><th>DEW</th><th>SLP</th></tr>\n",
       "<tr><td>826099999</td><td>2008-01-01 00:00:00</td><td>4</td><td>0.0</td><td>0.0</td><td>0.0</td><td>WXPOD8270</td><td>FM-15</td><td>KFMH </td><td>V020</td><td>280,1,N,0062,1</td><td>22000,1,9,N</td><td>024140,1,N,1</td><td>+0020,1</td><td>-0040,1</td><td>10170,1</td></tr>\n",
       "<tr><td>826099999</td><td>2008-01-01 00:53:00</td><td>4</td><td>0.0</td><td>0.0</td><td>0.0</td><td>WXPOD8270</td><td>FM-15</td><td>KCCR </td><td>V020</td><td>100,1,N,0021,1</td><td>22000,1,9,N</td><td>016093,1,N,1</td><td>+9999,9</td><td>-0030,1</td><td>10231,1</td></tr>\n",
       "<tr><td>826099999</td><td>2008-01-01 00:53:00</td><td>4</td><td>0.0</td><td>0.0</td><td>0.0</td><td>WXPOD8270</td><td>FM-16</td><td>KDAL </td><td>V020</td><td>360,1,N,0057,1</td><td>22000,1,9,N</td><td>016093,1,N,1</td><td>+9999,9</td><td>+9999,9</td><td>99999,9</td></tr>\n",
       "<tr><td>826099999</td><td>2008-01-01 01:00:00</td><td>4</td><td>0.0</td><td>0.0</td><td>0.0</td><td>WXPOD8270</td><td>FM-15</td><td>KFMH </td><td>V020</td><td>270,1,N,0046,1</td><td>22000,1,9,N</td><td>024140,1,N,1</td><td>+0010,1</td><td>-0040,1</td><td>10181,1</td></tr>\n",
       "<tr><td>826099999</td><td>2008-01-01 01:53:00</td><td>4</td><td>0.0</td><td>0.0</td><td>0.0</td><td>WXPOD8270</td><td>AUTO </td><td>KCGI </td><td>V020</td><td>300,1,N,0067,1</td><td>22000,1,9,N</td><td>016093,1,N,1</td><td>+0030,1</td><td>-0040,1</td><td>99999,9</td></tr>\n",
       "<tr><td>826099999</td><td>2008-01-01 01:53:00</td><td>4</td><td>0.0</td><td>0.0</td><td>0.0</td><td>WXPOD8270</td><td>FM-15</td><td>KCCR </td><td>V020</td><td>100,1,N,0031,1</td><td>22000,1,9,N</td><td>016093,1,N,1</td><td>+9999,9</td><td>-0030,1</td><td>10229,1</td></tr>\n",
       "<tr><td>826099999</td><td>2008-01-01 02:00:00</td><td>4</td><td>0.0</td><td>0.0</td><td>0.0</td><td>WXPOD8270</td><td>FM-15</td><td>KFMH </td><td>V020</td><td>270,1,N,0051,1</td><td>22000,1,9,N</td><td>024140,1,N,1</td><td>+0010,1</td><td>-0040,1</td><td>10192,1</td></tr>\n",
       "<tr><td>826099999</td><td>2008-01-01 02:53:00</td><td>4</td><td>0.0</td><td>0.0</td><td>0.0</td><td>WXPOD8270</td><td>AUTO </td><td>KCGI </td><td>V020</td><td>280,1,N,0041,1</td><td>22000,1,9,N</td><td>016093,1,N,1</td><td>+0020,1</td><td>-0040,1</td><td>10190,1</td></tr>\n",
       "<tr><td>826099999</td><td>2008-01-01 02:53:00</td><td>4</td><td>0.0</td><td>0.0</td><td>0.0</td><td>WXPOD8270</td><td>FM-15</td><td>KCCR </td><td>V020</td><td>080,1,N,0041,1</td><td>22000,1,9,N</td><td>016093,1,N,1</td><td>+9999,9</td><td>-0030,1</td><td>10231,1</td></tr>\n",
       "<tr><td>826099999</td><td>2008-01-01 03:00:00</td><td>4</td><td>0.0</td><td>0.0</td><td>0.0</td><td>WXPOD8270</td><td>SY-MT</td><td>KFMH </td><td>V020</td><td>300,1,N,0041,1</td><td>22000,1,9,N</td><td>016000,1,N,1</td><td>+0017,1</td><td>-0044,1</td><td>10203,1</td></tr>\n",
       "<tr><td>826099999</td><td>2008-01-01 03:53:00</td><td>4</td><td>0.0</td><td>0.0</td><td>0.0</td><td>WXPOD8270</td><td>AUTO </td><td>KCGI </td><td>V020</td><td>280,1,N,0041,1</td><td>22000,1,9,N</td><td>016093,1,N,1</td><td>+0010,1</td><td>-0030,1</td><td>10200,1</td></tr>\n",
       "<tr><td>826099999</td><td>2008-01-01 03:53:00</td><td>4</td><td>0.0</td><td>0.0</td><td>0.0</td><td>WXPOD8270</td><td>FM-15</td><td>KCCR </td><td>V020</td><td>100,1,N,0026,1</td><td>22000,1,9,N</td><td>016093,1,N,1</td><td>+9999,9</td><td>-0030,1</td><td>10234,1</td></tr>\n",
       "<tr><td>826099999</td><td>2008-01-01 04:00:00</td><td>4</td><td>0.0</td><td>0.0</td><td>0.0</td><td>WXPOD8270</td><td>FM-15</td><td>KFMH </td><td>V020</td><td>999,9,V,0010,1</td><td>22000,1,9,N</td><td>024140,1,N,1</td><td>-0030,1</td><td>-0050,1</td><td>10196,1</td></tr>\n",
       "<tr><td>826099999</td><td>2008-01-01 04:53:00</td><td>4</td><td>0.0</td><td>0.0</td><td>0.0</td><td>WXPOD8270</td><td>AUTO </td><td>KCGI </td><td>V020</td><td>260,1,N,0036,1</td><td>22000,1,9,N</td><td>016093,1,N,1</td><td>+0000,1</td><td>-0030,1</td><td>10207,1</td></tr>\n",
       "<tr><td>826099999</td><td>2008-01-01 04:53:00</td><td>4</td><td>0.0</td><td>0.0</td><td>0.0</td><td>WXPOD8270</td><td>FM-15</td><td>KCCR </td><td>V020</td><td>090,1,N,0026,1</td><td>22000,1,9,N</td><td>016093,1,N,1</td><td>+9999,9</td><td>-0030,1</td><td>10236,1</td></tr>\n",
       "<tr><td>826099999</td><td>2008-01-01 05:00:00</td><td>4</td><td>0.0</td><td>0.0</td><td>0.0</td><td>WXPOD8270</td><td>FM-15</td><td>KFMH </td><td>V020</td><td>210,1,N,0015,1</td><td>22000,1,9,N</td><td>024140,1,N,1</td><td>-0040,1</td><td>-0050,1</td><td>10199,1</td></tr>\n",
       "<tr><td>826099999</td><td>2008-01-01 05:53:00</td><td>4</td><td>0.0</td><td>0.0</td><td>0.0</td><td>WXPOD8270</td><td>AUTO </td><td>KCGI </td><td>V020</td><td>290,1,N,0051,1</td><td>22000,1,9,N</td><td>016093,1,N,1</td><td>+0010,1</td><td>-0040,1</td><td>10216,1</td></tr>\n",
       "<tr><td>826099999</td><td>2008-01-01 05:53:00</td><td>4</td><td>0.0</td><td>0.0</td><td>0.0</td><td>WXPOD8270</td><td>FM-15</td><td>KCCR </td><td>V020</td><td>100,1,N,0015,1</td><td>22000,1,9,N</td><td>016093,1,N,1</td><td>+9999,9</td><td>-0020,1</td><td>10240,1</td></tr>\n",
       "<tr><td>826099999</td><td>2008-01-01 06:00:00</td><td>4</td><td>0.0</td><td>0.0</td><td>0.0</td><td>WXPOD8270</td><td>FM-15</td><td>KFMH </td><td>V020</td><td>260,1,N,0005,1</td><td>22000,1,9,N</td><td>024140,1,N,1</td><td>-0040,1</td><td>-0050,1</td><td>10209,1</td></tr>\n",
       "<tr><td>826099999</td><td>2008-01-01 06:53:00</td><td>4</td><td>0.0</td><td>0.0</td><td>0.0</td><td>WXPOD8270</td><td>AUTO </td><td>KCGI </td><td>V020</td><td>290,1,N,0051,1</td><td>22000,1,9,N</td><td>016093,1,N,1</td><td>+0000,1</td><td>-0060,1</td><td>10226,1</td></tr>\n",
       "</table>\n",
       "only showing top 20 rows\n"
      ],
      "text/plain": [
       "+---------+-------------------+------+--------+---------+---------+---------+-----------+---------+---------------+--------------+-----------+------------+-------+-------+-------+\n",
       "|  STATION|               DATE|SOURCE|LATITUDE|LONGITUDE|ELEVATION|     NAME|REPORT_TYPE|CALL_SIGN|QUALITY_CONTROL|           WND|        CIG|         VIS|    TMP|    DEW|    SLP|\n",
       "+---------+-------------------+------+--------+---------+---------+---------+-----------+---------+---------------+--------------+-----------+------------+-------+-------+-------+\n",
       "|826099999|2008-01-01 00:00:00|     4|     0.0|      0.0|      0.0|WXPOD8270|      FM-15|    KFMH |           V020|280,1,N,0062,1|22000,1,9,N|024140,1,N,1|+0020,1|-0040,1|10170,1|\n",
       "|826099999|2008-01-01 00:53:00|     4|     0.0|      0.0|      0.0|WXPOD8270|      FM-15|    KCCR |           V020|100,1,N,0021,1|22000,1,9,N|016093,1,N,1|+9999,9|-0030,1|10231,1|\n",
       "|826099999|2008-01-01 00:53:00|     4|     0.0|      0.0|      0.0|WXPOD8270|      FM-16|    KDAL |           V020|360,1,N,0057,1|22000,1,9,N|016093,1,N,1|+9999,9|+9999,9|99999,9|\n",
       "|826099999|2008-01-01 01:00:00|     4|     0.0|      0.0|      0.0|WXPOD8270|      FM-15|    KFMH |           V020|270,1,N,0046,1|22000,1,9,N|024140,1,N,1|+0010,1|-0040,1|10181,1|\n",
       "|826099999|2008-01-01 01:53:00|     4|     0.0|      0.0|      0.0|WXPOD8270|      AUTO |    KCGI |           V020|300,1,N,0067,1|22000,1,9,N|016093,1,N,1|+0030,1|-0040,1|99999,9|\n",
       "|826099999|2008-01-01 01:53:00|     4|     0.0|      0.0|      0.0|WXPOD8270|      FM-15|    KCCR |           V020|100,1,N,0031,1|22000,1,9,N|016093,1,N,1|+9999,9|-0030,1|10229,1|\n",
       "|826099999|2008-01-01 02:00:00|     4|     0.0|      0.0|      0.0|WXPOD8270|      FM-15|    KFMH |           V020|270,1,N,0051,1|22000,1,9,N|024140,1,N,1|+0010,1|-0040,1|10192,1|\n",
       "|826099999|2008-01-01 02:53:00|     4|     0.0|      0.0|      0.0|WXPOD8270|      AUTO |    KCGI |           V020|280,1,N,0041,1|22000,1,9,N|016093,1,N,1|+0020,1|-0040,1|10190,1|\n",
       "|826099999|2008-01-01 02:53:00|     4|     0.0|      0.0|      0.0|WXPOD8270|      FM-15|    KCCR |           V020|080,1,N,0041,1|22000,1,9,N|016093,1,N,1|+9999,9|-0030,1|10231,1|\n",
       "|826099999|2008-01-01 03:00:00|     4|     0.0|      0.0|      0.0|WXPOD8270|      SY-MT|    KFMH |           V020|300,1,N,0041,1|22000,1,9,N|016000,1,N,1|+0017,1|-0044,1|10203,1|\n",
       "|826099999|2008-01-01 03:53:00|     4|     0.0|      0.0|      0.0|WXPOD8270|      AUTO |    KCGI |           V020|280,1,N,0041,1|22000,1,9,N|016093,1,N,1|+0010,1|-0030,1|10200,1|\n",
       "|826099999|2008-01-01 03:53:00|     4|     0.0|      0.0|      0.0|WXPOD8270|      FM-15|    KCCR |           V020|100,1,N,0026,1|22000,1,9,N|016093,1,N,1|+9999,9|-0030,1|10234,1|\n",
       "|826099999|2008-01-01 04:00:00|     4|     0.0|      0.0|      0.0|WXPOD8270|      FM-15|    KFMH |           V020|999,9,V,0010,1|22000,1,9,N|024140,1,N,1|-0030,1|-0050,1|10196,1|\n",
       "|826099999|2008-01-01 04:53:00|     4|     0.0|      0.0|      0.0|WXPOD8270|      AUTO |    KCGI |           V020|260,1,N,0036,1|22000,1,9,N|016093,1,N,1|+0000,1|-0030,1|10207,1|\n",
       "|826099999|2008-01-01 04:53:00|     4|     0.0|      0.0|      0.0|WXPOD8270|      FM-15|    KCCR |           V020|090,1,N,0026,1|22000,1,9,N|016093,1,N,1|+9999,9|-0030,1|10236,1|\n",
       "|826099999|2008-01-01 05:00:00|     4|     0.0|      0.0|      0.0|WXPOD8270|      FM-15|    KFMH |           V020|210,1,N,0015,1|22000,1,9,N|024140,1,N,1|-0040,1|-0050,1|10199,1|\n",
       "|826099999|2008-01-01 05:53:00|     4|     0.0|      0.0|      0.0|WXPOD8270|      AUTO |    KCGI |           V020|290,1,N,0051,1|22000,1,9,N|016093,1,N,1|+0010,1|-0040,1|10216,1|\n",
       "|826099999|2008-01-01 05:53:00|     4|     0.0|      0.0|      0.0|WXPOD8270|      FM-15|    KCCR |           V020|100,1,N,0015,1|22000,1,9,N|016093,1,N,1|+9999,9|-0020,1|10240,1|\n",
       "|826099999|2008-01-01 06:00:00|     4|     0.0|      0.0|      0.0|WXPOD8270|      FM-15|    KFMH |           V020|260,1,N,0005,1|22000,1,9,N|024140,1,N,1|-0040,1|-0050,1|10209,1|\n",
       "|826099999|2008-01-01 06:53:00|     4|     0.0|      0.0|      0.0|WXPOD8270|      AUTO |    KCGI |           V020|290,1,N,0051,1|22000,1,9,N|016093,1,N,1|+0000,1|-0060,1|10226,1|\n",
       "+---------+-------------------+------+--------+---------+---------+---------+-----------+---------+---------------+--------------+-----------+------------+-------+-------+-------+\n",
       "only showing top 20 rows"
      ]
     },
     "execution_count": 8,
     "metadata": {},
     "output_type": "execute_result"
    }
   ],
   "source": [
    "all_stations"
   ]
  },
  {
   "cell_type": "code",
   "execution_count": 9,
   "id": "clean-platform",
   "metadata": {},
   "outputs": [
    {
     "data": {
      "text/plain": [
       "9573561"
      ]
     },
     "execution_count": 9,
     "metadata": {},
     "output_type": "execute_result"
    }
   ],
   "source": [
    "# Nombre de lignes\n",
    "all_stations.count()"
   ]
  },
  {
   "cell_type": "markdown",
   "id": "changed-graph",
   "metadata": {},
   "source": [
    "## Supprimer les lignes du champ TMP avec des valeurs vides OU des +9999"
   ]
  },
  {
   "cell_type": "code",
   "execution_count": 10,
   "id": "grand-contact",
   "metadata": {},
   "outputs": [],
   "source": [
    "all_stations = all_stations.na.drop(how=\"any\", subset=[\"TMP\"]).filter(~all_stations.TMP.contains(\"+9999\"))"
   ]
  },
  {
   "cell_type": "markdown",
   "id": "dependent-romance",
   "metadata": {},
   "source": [
    "## Supprimer les lignes du champ ELEVATION avec des valeurs vides OU des +9999"
   ]
  },
  {
   "cell_type": "code",
   "execution_count": 11,
   "id": "smaller-father",
   "metadata": {},
   "outputs": [],
   "source": [
    "all_stations = all_stations.na.drop(how=\"any\", subset=[\"ELEVATION\"]).filter(~all_stations.ELEVATION.contains(\"+9999\"))"
   ]
  },
  {
   "cell_type": "code",
   "execution_count": 12,
   "id": "accessory-veteran",
   "metadata": {},
   "outputs": [
    {
     "data": {
      "text/plain": [
       "9320756"
      ]
     },
     "execution_count": 12,
     "metadata": {},
     "output_type": "execute_result"
    }
   ],
   "source": [
    "# Nombre de lignes après le drop\n",
    "all_stations.count()"
   ]
  },
  {
   "cell_type": "code",
   "execution_count": 13,
   "id": "southwest-export",
   "metadata": {},
   "outputs": [
    {
     "name": "stdout",
     "output_type": "stream",
     "text": [
      "root\n",
      " |-- STATION: integer (nullable = true)\n",
      " |-- DATE: timestamp (nullable = true)\n",
      " |-- SOURCE: integer (nullable = true)\n",
      " |-- LATITUDE: float (nullable = true)\n",
      " |-- LONGITUDE: float (nullable = true)\n",
      " |-- ELEVATION: string (nullable = true)\n",
      " |-- NAME: string (nullable = true)\n",
      " |-- REPORT_TYPE: string (nullable = true)\n",
      " |-- CALL_SIGN: string (nullable = true)\n",
      " |-- QUALITY_CONTROL: string (nullable = true)\n",
      " |-- WND: string (nullable = true)\n",
      " |-- CIG: string (nullable = true)\n",
      " |-- VIS: string (nullable = true)\n",
      " |-- TMP: string (nullable = true)\n",
      " |-- DEW: string (nullable = true)\n",
      " |-- SLP: string (nullable = true)\n",
      "\n"
     ]
    }
   ],
   "source": [
    "# Le schema de données\n",
    "all_stations.printSchema()"
   ]
  },
  {
   "cell_type": "markdown",
   "id": "pretty-croatia",
   "metadata": {},
   "source": [
    "## Split de la colonne température"
   ]
  },
  {
   "cell_type": "code",
   "execution_count": 14,
   "id": "electric-radio",
   "metadata": {},
   "outputs": [],
   "source": [
    "@udf(returnType=FloatType())\n",
    "def extract_tmp(tmp_col: str):\n",
    "    return int(tmp_col.split(',')[0].lstrip('+')) / 10\n",
    "\n",
    "all_stations = all_stations.withColumn('temperature', extract_tmp(all_stations['TMP']))"
   ]
  },
  {
   "cell_type": "code",
   "execution_count": 15,
   "id": "retained-california",
   "metadata": {},
   "outputs": [
    {
     "name": "stdout",
     "output_type": "stream",
     "text": [
      "root\n",
      " |-- STATION: integer (nullable = true)\n",
      " |-- DATE: timestamp (nullable = true)\n",
      " |-- SOURCE: integer (nullable = true)\n",
      " |-- LATITUDE: float (nullable = true)\n",
      " |-- LONGITUDE: float (nullable = true)\n",
      " |-- ELEVATION: string (nullable = true)\n",
      " |-- NAME: string (nullable = true)\n",
      " |-- REPORT_TYPE: string (nullable = true)\n",
      " |-- CALL_SIGN: string (nullable = true)\n",
      " |-- QUALITY_CONTROL: string (nullable = true)\n",
      " |-- WND: string (nullable = true)\n",
      " |-- CIG: string (nullable = true)\n",
      " |-- VIS: string (nullable = true)\n",
      " |-- TMP: string (nullable = true)\n",
      " |-- DEW: string (nullable = true)\n",
      " |-- SLP: string (nullable = true)\n",
      " |-- temperature: float (nullable = true)\n",
      "\n"
     ]
    }
   ],
   "source": [
    "all_stations.printSchema()"
   ]
  },
  {
   "cell_type": "markdown",
   "id": "collected-happiness",
   "metadata": {},
   "source": [
    "## Création du champ season"
   ]
  },
  {
   "cell_type": "code",
   "execution_count": 16,
   "id": "congressional-jefferson",
   "metadata": {},
   "outputs": [],
   "source": [
    "@udf(returnType=StringType())\n",
    "def create_season(month: int):\n",
    "    if month in [7, 8, 9]:\n",
    "        season = 'Summer'\n",
    "    elif month in [10, 11, 12]:\n",
    "        season = 'Autumn'\n",
    "    elif month in [1, 2, 3]:\n",
    "        season = 'Winter'\n",
    "    else:\n",
    "        season = 'Spring'\n",
    "    return season\n",
    "\n",
    "all_stations = all_stations.withColumn('season', create_season(month(\"DATE\")))"
   ]
  },
  {
   "cell_type": "code",
   "execution_count": 17,
   "id": "weekly-asbestos",
   "metadata": {},
   "outputs": [
    {
     "name": "stdout",
     "output_type": "stream",
     "text": [
      "root\n",
      " |-- STATION: integer (nullable = true)\n",
      " |-- DATE: timestamp (nullable = true)\n",
      " |-- SOURCE: integer (nullable = true)\n",
      " |-- LATITUDE: float (nullable = true)\n",
      " |-- LONGITUDE: float (nullable = true)\n",
      " |-- ELEVATION: string (nullable = true)\n",
      " |-- NAME: string (nullable = true)\n",
      " |-- REPORT_TYPE: string (nullable = true)\n",
      " |-- CALL_SIGN: string (nullable = true)\n",
      " |-- QUALITY_CONTROL: string (nullable = true)\n",
      " |-- WND: string (nullable = true)\n",
      " |-- CIG: string (nullable = true)\n",
      " |-- VIS: string (nullable = true)\n",
      " |-- TMP: string (nullable = true)\n",
      " |-- DEW: string (nullable = true)\n",
      " |-- SLP: string (nullable = true)\n",
      " |-- temperature: float (nullable = true)\n",
      " |-- season: string (nullable = true)\n",
      "\n"
     ]
    }
   ],
   "source": [
    "all_stations.printSchema()"
   ]
  },
  {
   "cell_type": "code",
   "execution_count": null,
   "id": "romantic-hopkins",
   "metadata": {},
   "outputs": [],
   "source": []
  },
  {
   "cell_type": "markdown",
   "id": "rolled-divide",
   "metadata": {},
   "source": [
    "## Moyenne des températures par année/mois/journée/saison"
   ]
  },
  {
   "cell_type": "code",
   "execution_count": 18,
   "id": "nuclear-people",
   "metadata": {},
   "outputs": [
    {
     "data": {
      "text/html": [
       "<table border='1'>\n",
       "<tr><th>year</th><th>mean_tmp</th></tr>\n",
       "<tr><td>2000</td><td>6.676732570305787</td></tr>\n",
       "<tr><td>2002</td><td>4.976165004614428</td></tr>\n",
       "<tr><td>2004</td><td>5.128241445325596</td></tr>\n",
       "<tr><td>2006</td><td>4.283613263977693</td></tr>\n",
       "<tr><td>2008</td><td>3.636111808362767</td></tr>\n",
       "<tr><td>2010</td><td>2.102685854412489</td></tr>\n",
       "<tr><td>2012</td><td>2.2853650198653495</td></tr>\n",
       "<tr><td>2014</td><td>2.513692370458653</td></tr>\n",
       "<tr><td>2016</td><td>2.5297198968771135</td></tr>\n",
       "<tr><td>2018</td><td>1.9917920677494778</td></tr>\n",
       "</table>\n"
      ],
      "text/plain": [
       "+----+------------------+\n",
       "|year|          mean_tmp|\n",
       "+----+------------------+\n",
       "|2000| 6.676732570305787|\n",
       "|2002| 4.976165004614428|\n",
       "|2004| 5.128241445325596|\n",
       "|2006| 4.283613263977693|\n",
       "|2008| 3.636111808362767|\n",
       "|2010| 2.102685854412489|\n",
       "|2012|2.2853650198653495|\n",
       "|2014| 2.513692370458653|\n",
       "|2016|2.5297198968771135|\n",
       "|2018|1.9917920677494778|\n",
       "+----+------------------+"
      ]
     },
     "execution_count": 18,
     "metadata": {},
     "output_type": "execute_result"
    }
   ],
   "source": [
    "# Par année\n",
    "mean_tmp_by_year = all_stations.groupBy([year(\"DATE\").alias(\"year\")]).agg(mean(\"temperature\").alias(\"mean_tmp\"))\n",
    "mean_tmp_by_year = mean_tmp_by_year.sort(\"year\")\n",
    "mean_tmp_by_year"
   ]
  },
  {
   "cell_type": "code",
   "execution_count": 19,
   "id": "sensitive-wiring",
   "metadata": {},
   "outputs": [
    {
     "data": {
      "text/html": [
       "<table border='1'>\n",
       "<tr><th>year</th><th>month</th><th>mean_tmp</th></tr>\n",
       "<tr><td>2000</td><td>1</td><td>0.3137670401007231</td></tr>\n",
       "<tr><td>2000</td><td>2</td><td>0.3859627695553859</td></tr>\n",
       "<tr><td>2000</td><td>3</td><td>1.628639935549314</td></tr>\n",
       "<tr><td>2000</td><td>4</td><td>4.485998215931641</td></tr>\n",
       "<tr><td>2000</td><td>5</td><td>9.459909050709852</td></tr>\n",
       "<tr><td>2000</td><td>6</td><td>11.571748782505892</td></tr>\n",
       "<tr><td>2000</td><td>7</td><td>13.819235464133062</td></tr>\n",
       "<tr><td>2000</td><td>8</td><td>13.5500085989656</td></tr>\n",
       "<tr><td>2000</td><td>9</td><td>10.827875838113352</td></tr>\n",
       "<tr><td>2000</td><td>10</td><td>8.54312500879361</td></tr>\n",
       "<tr><td>2000</td><td>11</td><td>4.44872269219041</td></tr>\n",
       "<tr><td>2000</td><td>12</td><td>1.0780464284041233</td></tr>\n",
       "<tr><td>2002</td><td>1</td><td>-3.6597838242791436</td></tr>\n",
       "<tr><td>2002</td><td>2</td><td>-1.8109965754777415</td></tr>\n",
       "<tr><td>2002</td><td>3</td><td>-0.9348814698698968</td></tr>\n",
       "<tr><td>2002</td><td>4</td><td>4.489546496010695</td></tr>\n",
       "<tr><td>2002</td><td>5</td><td>9.890792799832449</td></tr>\n",
       "<tr><td>2002</td><td>6</td><td>14.306530061280522</td></tr>\n",
       "<tr><td>2002</td><td>7</td><td>16.25103647108359</td></tr>\n",
       "<tr><td>2002</td><td>8</td><td>17.015156116082473</td></tr>\n",
       "</table>\n",
       "only showing top 20 rows\n"
      ],
      "text/plain": [
       "+----+-----+-------------------+\n",
       "|year|month|           mean_tmp|\n",
       "+----+-----+-------------------+\n",
       "|2000|    1| 0.3137670401007231|\n",
       "|2000|    2| 0.3859627695553859|\n",
       "|2000|    3|  1.628639935549314|\n",
       "|2000|    4|  4.485998215931641|\n",
       "|2000|    5|  9.459909050709852|\n",
       "|2000|    6| 11.571748782505892|\n",
       "|2000|    7| 13.819235464133062|\n",
       "|2000|    8|   13.5500085989656|\n",
       "|2000|    9| 10.827875838113352|\n",
       "|2000|   10|   8.54312500879361|\n",
       "|2000|   11|   4.44872269219041|\n",
       "|2000|   12| 1.0780464284041233|\n",
       "|2002|    1|-3.6597838242791436|\n",
       "|2002|    2|-1.8109965754777415|\n",
       "|2002|    3|-0.9348814698698968|\n",
       "|2002|    4|  4.489546496010695|\n",
       "|2002|    5|  9.890792799832449|\n",
       "|2002|    6| 14.306530061280522|\n",
       "|2002|    7|  16.25103647108359|\n",
       "|2002|    8| 17.015156116082473|\n",
       "+----+-----+-------------------+\n",
       "only showing top 20 rows"
      ]
     },
     "execution_count": 19,
     "metadata": {},
     "output_type": "execute_result"
    }
   ],
   "source": [
    "# Par mois\n",
    "mean_tmp_by_month = all_stations.groupBy([year(\"DATE\").alias(\"year\"), month(\"DATE\").alias(\"month\")]).agg(mean(\"temperature\").alias(\"mean_tmp\"))\n",
    "mean_tmp_by_month = mean_tmp_by_month.sort(\"year\", \"month\")\n",
    "mean_tmp_by_month"
   ]
  },
  {
   "cell_type": "code",
   "execution_count": 20,
   "id": "afraid-courage",
   "metadata": {},
   "outputs": [
    {
     "data": {
      "text/html": [
       "<table border='1'>\n",
       "<tr><th>date</th><th>mean_tmp</th></tr>\n",
       "<tr><td>2000-01-01</td><td>-0.6716621865461644</td></tr>\n",
       "<tr><td>2000-01-02</td><td>1.6958582251284855</td></tr>\n",
       "<tr><td>2000-01-03</td><td>1.8629008217073704</td></tr>\n",
       "<tr><td>2000-01-04</td><td>1.4960574121728842</td></tr>\n",
       "<tr><td>2000-01-05</td><td>1.0262799981549382</td></tr>\n",
       "<tr><td>2000-01-06</td><td>2.5688683107311343</td></tr>\n",
       "<tr><td>2000-01-07</td><td>3.9012439623558075</td></tr>\n",
       "<tr><td>2000-01-08</td><td>3.827774293345468</td></tr>\n",
       "<tr><td>2000-01-09</td><td>2.2706869881289906</td></tr>\n",
       "<tr><td>2000-01-10</td><td>1.9399587871411201</td></tr>\n",
       "<tr><td>2000-01-11</td><td>2.828657994167974</td></tr>\n",
       "<tr><td>2000-01-12</td><td>2.0425587915519574</td></tr>\n",
       "<tr><td>2000-01-13</td><td>0.06356368520174512</td></tr>\n",
       "<tr><td>2000-01-14</td><td>-0.9653587858661741</td></tr>\n",
       "<tr><td>2000-01-15</td><td>-0.10445705020567779</td></tr>\n",
       "<tr><td>2000-01-16</td><td>2.4665673453069226</td></tr>\n",
       "<tr><td>2000-01-17</td><td>3.2597907903293315</td></tr>\n",
       "<tr><td>2000-01-18</td><td>0.6221398914833084</td></tr>\n",
       "<tr><td>2000-01-19</td><td>-0.8680703014187195</td></tr>\n",
       "<tr><td>2000-01-20</td><td>-1.3197598460165094</td></tr>\n",
       "</table>\n",
       "only showing top 20 rows\n"
      ],
      "text/plain": [
       "+----------+--------------------+\n",
       "|      date|            mean_tmp|\n",
       "+----------+--------------------+\n",
       "|2000-01-01| -0.6716621865461644|\n",
       "|2000-01-02|  1.6958582251284855|\n",
       "|2000-01-03|  1.8629008217073704|\n",
       "|2000-01-04|  1.4960574121728842|\n",
       "|2000-01-05|  1.0262799981549382|\n",
       "|2000-01-06|  2.5688683107311343|\n",
       "|2000-01-07|  3.9012439623558075|\n",
       "|2000-01-08|   3.827774293345468|\n",
       "|2000-01-09|  2.2706869881289906|\n",
       "|2000-01-10|  1.9399587871411201|\n",
       "|2000-01-11|   2.828657994167974|\n",
       "|2000-01-12|  2.0425587915519574|\n",
       "|2000-01-13| 0.06356368520174512|\n",
       "|2000-01-14| -0.9653587858661741|\n",
       "|2000-01-15|-0.10445705020567779|\n",
       "|2000-01-16|  2.4665673453069226|\n",
       "|2000-01-17|  3.2597907903293315|\n",
       "|2000-01-18|  0.6221398914833084|\n",
       "|2000-01-19| -0.8680703014187195|\n",
       "|2000-01-20| -1.3197598460165094|\n",
       "+----------+--------------------+\n",
       "only showing top 20 rows"
      ]
     },
     "execution_count": 20,
     "metadata": {},
     "output_type": "execute_result"
    }
   ],
   "source": [
    "# Par jour\n",
    "mean_tmp_by_day = all_stations.groupBy(to_date(\"DATE\").cast(\"date\").alias(\"date\")).agg(mean(\"temperature\").alias(\"mean_tmp\"))\n",
    "mean_tmp_by_day = mean_tmp_by_day.sort(\"date\")\n",
    "mean_tmp_by_day"
   ]
  },
  {
   "cell_type": "code",
   "execution_count": 21,
   "id": "crazy-approach",
   "metadata": {},
   "outputs": [
    {
     "data": {
      "text/html": [
       "<table border='1'>\n",
       "<tr><th>year</th><th>season</th><th>mean_tmp</th></tr>\n",
       "<tr><td>2000</td><td>Autumn</td><td>4.7103472514813</td></tr>\n",
       "<tr><td>2000</td><td>Spring</td><td>8.532272508882167</td></tr>\n",
       "<tr><td>2000</td><td>Summer</td><td>12.736410181261036</td></tr>\n",
       "<tr><td>2000</td><td>Winter</td><td>0.7836069559721641</td></tr>\n",
       "<tr><td>2002</td><td>Autumn</td><td>-2.249063715898641</td></tr>\n",
       "<tr><td>2002</td><td>Spring</td><td>9.642368533128352</td></tr>\n",
       "<tr><td>2002</td><td>Summer</td><td>14.435654191012262</td></tr>\n",
       "<tr><td>2002</td><td>Winter</td><td>-2.158495249674572</td></tr>\n",
       "<tr><td>2004</td><td>Autumn</td><td>1.6460110800745236</td></tr>\n",
       "<tr><td>2004</td><td>Spring</td><td>8.232080454303253</td></tr>\n",
       "<tr><td>2004</td><td>Summer</td><td>13.409129428934598</td></tr>\n",
       "<tr><td>2004</td><td>Winter</td><td>-2.810324112732668</td></tr>\n",
       "<tr><td>2006</td><td>Autumn</td><td>1.4573414169674752</td></tr>\n",
       "<tr><td>2006</td><td>Spring</td><td>6.729103194584158</td></tr>\n",
       "<tr><td>2006</td><td>Summer</td><td>11.369426828311594</td></tr>\n",
       "<tr><td>2006</td><td>Winter</td><td>-3.0666838392376388</td></tr>\n",
       "<tr><td>2008</td><td>Autumn</td><td>0.9601557533682311</td></tr>\n",
       "<tr><td>2008</td><td>Spring</td><td>5.084137695427678</td></tr>\n",
       "<tr><td>2008</td><td>Summer</td><td>10.363988220621707</td></tr>\n",
       "<tr><td>2008</td><td>Winter</td><td>-2.1858410620951876</td></tr>\n",
       "</table>\n",
       "only showing top 20 rows\n"
      ],
      "text/plain": [
       "+----+------+-------------------+\n",
       "|year|season|           mean_tmp|\n",
       "+----+------+-------------------+\n",
       "|2000|Autumn|    4.7103472514813|\n",
       "|2000|Spring|  8.532272508882167|\n",
       "|2000|Summer| 12.736410181261036|\n",
       "|2000|Winter| 0.7836069559721641|\n",
       "|2002|Autumn| -2.249063715898641|\n",
       "|2002|Spring|  9.642368533128352|\n",
       "|2002|Summer| 14.435654191012262|\n",
       "|2002|Winter| -2.158495249674572|\n",
       "|2004|Autumn| 1.6460110800745236|\n",
       "|2004|Spring|  8.232080454303253|\n",
       "|2004|Summer| 13.409129428934598|\n",
       "|2004|Winter| -2.810324112732668|\n",
       "|2006|Autumn| 1.4573414169674752|\n",
       "|2006|Spring|  6.729103194584158|\n",
       "|2006|Summer| 11.369426828311594|\n",
       "|2006|Winter|-3.0666838392376388|\n",
       "|2008|Autumn| 0.9601557533682311|\n",
       "|2008|Spring|  5.084137695427678|\n",
       "|2008|Summer| 10.363988220621707|\n",
       "|2008|Winter|-2.1858410620951876|\n",
       "+----+------+-------------------+\n",
       "only showing top 20 rows"
      ]
     },
     "execution_count": 21,
     "metadata": {},
     "output_type": "execute_result"
    }
   ],
   "source": [
    "# Par saison\n",
    "mean_tmp_by_season = all_stations.groupBy([year(\"DATE\").alias(\"year\"), \"season\"]).agg(mean(\"temperature\").alias(\"mean_tmp\"))\n",
    "mean_tmp_by_season = mean_tmp_by_season.sort(\"year\", \"season\")\n",
    "mean_tmp_by_season"
   ]
  },
  {
   "cell_type": "code",
   "execution_count": 22,
   "id": "cellular-hampshire",
   "metadata": {},
   "outputs": [],
   "source": [
    "# Avec SQL\n",
    "# all_stations.createOrReplaceTempView(\"stations_view\")\n",
    "# spark.sql('''SELECT STATION, year(DATE), month(DATE), month, AVG(temperature)\n",
    "# FROM stations_view\n",
    "# GROUP BY year(DATE), month(DATE)''').show()"
   ]
  },
  {
   "cell_type": "code",
   "execution_count": null,
   "id": "uniform-poetry",
   "metadata": {},
   "outputs": [],
   "source": []
  },
  {
   "cell_type": "markdown",
   "id": "located-creature",
   "metadata": {},
   "source": [
    "## Min/Max des températures par année/mois/journée/saison"
   ]
  },
  {
   "cell_type": "code",
   "execution_count": 23,
   "id": "recent-diagram",
   "metadata": {},
   "outputs": [
    {
     "data": {
      "text/html": [
       "<table border='1'>\n",
       "<tr><th>year</th><th>min_tmp</th><th>max_tmp</th></tr>\n",
       "<tr><td>2000</td><td>-36.4</td><td>39.0</td></tr>\n",
       "<tr><td>2002</td><td>-42.0</td><td>54.0</td></tr>\n",
       "<tr><td>2004</td><td>-48.5</td><td>31.2</td></tr>\n",
       "<tr><td>2006</td><td>-41.3</td><td>41.0</td></tr>\n",
       "<tr><td>2008</td><td>-75.0</td><td>35.0</td></tr>\n",
       "<tr><td>2010</td><td>-42.0</td><td>36.0</td></tr>\n",
       "<tr><td>2012</td><td>-39.4</td><td>42.0</td></tr>\n",
       "<tr><td>2014</td><td>-41.7</td><td>37.4</td></tr>\n",
       "<tr><td>2016</td><td>-42.4</td><td>38.0</td></tr>\n",
       "<tr><td>2018</td><td>-37.8</td><td>33.0</td></tr>\n",
       "</table>\n"
      ],
      "text/plain": [
       "+----+-------+-------+\n",
       "|year|min_tmp|max_tmp|\n",
       "+----+-------+-------+\n",
       "|2000|  -36.4|   39.0|\n",
       "|2002|  -42.0|   54.0|\n",
       "|2004|  -48.5|   31.2|\n",
       "|2006|  -41.3|   41.0|\n",
       "|2008|  -75.0|   35.0|\n",
       "|2010|  -42.0|   36.0|\n",
       "|2012|  -39.4|   42.0|\n",
       "|2014|  -41.7|   37.4|\n",
       "|2016|  -42.4|   38.0|\n",
       "|2018|  -37.8|   33.0|\n",
       "+----+-------+-------+"
      ]
     },
     "execution_count": 23,
     "metadata": {},
     "output_type": "execute_result"
    }
   ],
   "source": [
    "# Par année\n",
    "min_max_tmp_by_year = all_stations.groupBy([year(\"DATE\").alias(\"year\")]).agg(F.min(\"temperature\").alias(\"min_tmp\"), F.max(\"temperature\").alias(\"max_tmp\"))\n",
    "min_max_tmp_by_year = min_max_tmp_by_year.sort(\"year\")\n",
    "min_max_tmp_by_year"
   ]
  },
  {
   "cell_type": "code",
   "execution_count": 24,
   "id": "swiss-surgery",
   "metadata": {},
   "outputs": [
    {
     "data": {
      "text/html": [
       "<table border='1'>\n",
       "<tr><th>year</th><th>month</th><th>min_tmp</th><th>max_tmp</th></tr>\n",
       "<tr><td>2000</td><td>1</td><td>-36.4</td><td>28.0</td></tr>\n",
       "<tr><td>2000</td><td>2</td><td>-31.6</td><td>21.0</td></tr>\n",
       "<tr><td>2000</td><td>3</td><td>-33.2</td><td>30.0</td></tr>\n",
       "<tr><td>2000</td><td>4</td><td>-27.6</td><td>28.1</td></tr>\n",
       "<tr><td>2000</td><td>5</td><td>-13.5</td><td>34.2</td></tr>\n",
       "<tr><td>2000</td><td>6</td><td>-30.0</td><td>32.0</td></tr>\n",
       "<tr><td>2000</td><td>7</td><td>-1.6</td><td>31.0</td></tr>\n",
       "<tr><td>2000</td><td>8</td><td>-2.6</td><td>39.0</td></tr>\n",
       "<tr><td>2000</td><td>9</td><td>-6.0</td><td>30.0</td></tr>\n",
       "<tr><td>2000</td><td>10</td><td>-19.7</td><td>21.6</td></tr>\n",
       "<tr><td>2000</td><td>11</td><td>-30.7</td><td>16.0</td></tr>\n",
       "<tr><td>2000</td><td>12</td><td>-35.9</td><td>18.0</td></tr>\n",
       "<tr><td>2002</td><td>1</td><td>-42.0</td><td>54.0</td></tr>\n",
       "<tr><td>2002</td><td>2</td><td>-34.3</td><td>14.0</td></tr>\n",
       "<tr><td>2002</td><td>3</td><td>-33.0</td><td>29.0</td></tr>\n",
       "<tr><td>2002</td><td>4</td><td>-26.5</td><td>40.0</td></tr>\n",
       "<tr><td>2002</td><td>5</td><td>-20.0</td><td>27.0</td></tr>\n",
       "<tr><td>2002</td><td>6</td><td>-2.3</td><td>30.0</td></tr>\n",
       "<tr><td>2002</td><td>7</td><td>-2.1</td><td>31.2</td></tr>\n",
       "<tr><td>2002</td><td>8</td><td>-10.0</td><td>35.5</td></tr>\n",
       "</table>\n",
       "only showing top 20 rows\n"
      ],
      "text/plain": [
       "+----+-----+-------+-------+\n",
       "|year|month|min_tmp|max_tmp|\n",
       "+----+-----+-------+-------+\n",
       "|2000|    1|  -36.4|   28.0|\n",
       "|2000|    2|  -31.6|   21.0|\n",
       "|2000|    3|  -33.2|   30.0|\n",
       "|2000|    4|  -27.6|   28.1|\n",
       "|2000|    5|  -13.5|   34.2|\n",
       "|2000|    6|  -30.0|   32.0|\n",
       "|2000|    7|   -1.6|   31.0|\n",
       "|2000|    8|   -2.6|   39.0|\n",
       "|2000|    9|   -6.0|   30.0|\n",
       "|2000|   10|  -19.7|   21.6|\n",
       "|2000|   11|  -30.7|   16.0|\n",
       "|2000|   12|  -35.9|   18.0|\n",
       "|2002|    1|  -42.0|   54.0|\n",
       "|2002|    2|  -34.3|   14.0|\n",
       "|2002|    3|  -33.0|   29.0|\n",
       "|2002|    4|  -26.5|   40.0|\n",
       "|2002|    5|  -20.0|   27.0|\n",
       "|2002|    6|   -2.3|   30.0|\n",
       "|2002|    7|   -2.1|   31.2|\n",
       "|2002|    8|  -10.0|   35.5|\n",
       "+----+-----+-------+-------+\n",
       "only showing top 20 rows"
      ]
     },
     "execution_count": 24,
     "metadata": {},
     "output_type": "execute_result"
    }
   ],
   "source": [
    "# Par mois\n",
    "min_max_tmp_by_month = all_stations.groupBy([year(\"DATE\").alias(\"year\"), month(\"DATE\").alias(\"month\")]).agg(F.min(\"temperature\").alias(\"min_tmp\"), F.max(\"temperature\").alias(\"max_tmp\"))\n",
    "min_max_tmp_by_month = min_max_tmp_by_month.sort(\"year\", \"month\")\n",
    "min_max_tmp_by_month"
   ]
  },
  {
   "cell_type": "code",
   "execution_count": 25,
   "id": "determined-commonwealth",
   "metadata": {},
   "outputs": [
    {
     "data": {
      "text/html": [
       "<table border='1'>\n",
       "<tr><th>date</th><th>min_tmp</th><th>max_tmp</th></tr>\n",
       "<tr><td>2000-01-01</td><td>-24.1</td><td>10.3</td></tr>\n",
       "<tr><td>2000-01-02</td><td>-19.1</td><td>11.6</td></tr>\n",
       "<tr><td>2000-01-03</td><td>-21.0</td><td>11.9</td></tr>\n",
       "<tr><td>2000-01-04</td><td>-14.7</td><td>9.2</td></tr>\n",
       "<tr><td>2000-01-05</td><td>-25.5</td><td>11.5</td></tr>\n",
       "<tr><td>2000-01-06</td><td>-25.0</td><td>11.7</td></tr>\n",
       "<tr><td>2000-01-07</td><td>-17.0</td><td>12.0</td></tr>\n",
       "<tr><td>2000-01-08</td><td>-5.6</td><td>10.0</td></tr>\n",
       "<tr><td>2000-01-09</td><td>-11.0</td><td>8.4</td></tr>\n",
       "<tr><td>2000-01-10</td><td>-17.1</td><td>18.0</td></tr>\n",
       "<tr><td>2000-01-11</td><td>-16.2</td><td>18.6</td></tr>\n",
       "<tr><td>2000-01-12</td><td>-24.1</td><td>10.1</td></tr>\n",
       "<tr><td>2000-01-13</td><td>-26.5</td><td>8.4</td></tr>\n",
       "<tr><td>2000-01-14</td><td>-27.0</td><td>8.5</td></tr>\n",
       "<tr><td>2000-01-15</td><td>-23.2</td><td>15.0</td></tr>\n",
       "<tr><td>2000-01-16</td><td>-21.2</td><td>11.6</td></tr>\n",
       "<tr><td>2000-01-17</td><td>-17.4</td><td>13.3</td></tr>\n",
       "<tr><td>2000-01-18</td><td>-24.4</td><td>12.0</td></tr>\n",
       "<tr><td>2000-01-19</td><td>-31.5</td><td>9.5</td></tr>\n",
       "<tr><td>2000-01-20</td><td>-34.8</td><td>10.0</td></tr>\n",
       "</table>\n",
       "only showing top 20 rows\n"
      ],
      "text/plain": [
       "+----------+-------+-------+\n",
       "|      date|min_tmp|max_tmp|\n",
       "+----------+-------+-------+\n",
       "|2000-01-01|  -24.1|   10.3|\n",
       "|2000-01-02|  -19.1|   11.6|\n",
       "|2000-01-03|  -21.0|   11.9|\n",
       "|2000-01-04|  -14.7|    9.2|\n",
       "|2000-01-05|  -25.5|   11.5|\n",
       "|2000-01-06|  -25.0|   11.7|\n",
       "|2000-01-07|  -17.0|   12.0|\n",
       "|2000-01-08|   -5.6|   10.0|\n",
       "|2000-01-09|  -11.0|    8.4|\n",
       "|2000-01-10|  -17.1|   18.0|\n",
       "|2000-01-11|  -16.2|   18.6|\n",
       "|2000-01-12|  -24.1|   10.1|\n",
       "|2000-01-13|  -26.5|    8.4|\n",
       "|2000-01-14|  -27.0|    8.5|\n",
       "|2000-01-15|  -23.2|   15.0|\n",
       "|2000-01-16|  -21.2|   11.6|\n",
       "|2000-01-17|  -17.4|   13.3|\n",
       "|2000-01-18|  -24.4|   12.0|\n",
       "|2000-01-19|  -31.5|    9.5|\n",
       "|2000-01-20|  -34.8|   10.0|\n",
       "+----------+-------+-------+\n",
       "only showing top 20 rows"
      ]
     },
     "execution_count": 25,
     "metadata": {},
     "output_type": "execute_result"
    }
   ],
   "source": [
    "# Par jour\n",
    "min_max_tmp_by_day = all_stations.groupBy(to_date(\"DATE\").cast(\"date\").alias(\"date\")).agg(F.min(\"temperature\").alias(\"min_tmp\"), F.max(\"temperature\").alias(\"max_tmp\"))\n",
    "min_max_tmp_by_day = min_max_tmp_by_day.sort(\"date\")\n",
    "min_max_tmp_by_day"
   ]
  },
  {
   "cell_type": "code",
   "execution_count": 26,
   "id": "respiratory-accordance",
   "metadata": {},
   "outputs": [
    {
     "data": {
      "text/html": [
       "<table border='1'>\n",
       "<tr><th>year</th><th>season</th><th>min_tmp</th><th>max_tmp</th></tr>\n",
       "<tr><td>2000</td><td>Autumn</td><td>-35.9</td><td>21.6</td></tr>\n",
       "<tr><td>2000</td><td>Spring</td><td>-30.0</td><td>34.2</td></tr>\n",
       "<tr><td>2000</td><td>Summer</td><td>-6.0</td><td>39.0</td></tr>\n",
       "<tr><td>2000</td><td>Winter</td><td>-36.4</td><td>30.0</td></tr>\n",
       "<tr><td>2002</td><td>Autumn</td><td>-40.2</td><td>26.9</td></tr>\n",
       "<tr><td>2002</td><td>Spring</td><td>-26.5</td><td>40.0</td></tr>\n",
       "<tr><td>2002</td><td>Summer</td><td>-10.0</td><td>35.5</td></tr>\n",
       "<tr><td>2002</td><td>Winter</td><td>-42.0</td><td>54.0</td></tr>\n",
       "<tr><td>2004</td><td>Autumn</td><td>-34.3</td><td>26.5</td></tr>\n",
       "<tr><td>2004</td><td>Spring</td><td>-24.3</td><td>27.0</td></tr>\n",
       "<tr><td>2004</td><td>Summer</td><td>-48.5</td><td>31.2</td></tr>\n",
       "<tr><td>2004</td><td>Winter</td><td>-38.6</td><td>29.4</td></tr>\n",
       "<tr><td>2006</td><td>Autumn</td><td>-30.3</td><td>28.0</td></tr>\n",
       "<tr><td>2006</td><td>Spring</td><td>-24.6</td><td>36.0</td></tr>\n",
       "<tr><td>2006</td><td>Summer</td><td>-7.8</td><td>41.0</td></tr>\n",
       "<tr><td>2006</td><td>Winter</td><td>-41.3</td><td>25.7</td></tr>\n",
       "<tr><td>2008</td><td>Autumn</td><td>-31.8</td><td>29.0</td></tr>\n",
       "<tr><td>2008</td><td>Spring</td><td>-75.0</td><td>34.0</td></tr>\n",
       "<tr><td>2008</td><td>Summer</td><td>-6.1</td><td>35.0</td></tr>\n",
       "<tr><td>2008</td><td>Winter</td><td>-37.2</td><td>23.0</td></tr>\n",
       "</table>\n",
       "only showing top 20 rows\n"
      ],
      "text/plain": [
       "+----+------+-------+-------+\n",
       "|year|season|min_tmp|max_tmp|\n",
       "+----+------+-------+-------+\n",
       "|2000|Autumn|  -35.9|   21.6|\n",
       "|2000|Spring|  -30.0|   34.2|\n",
       "|2000|Summer|   -6.0|   39.0|\n",
       "|2000|Winter|  -36.4|   30.0|\n",
       "|2002|Autumn|  -40.2|   26.9|\n",
       "|2002|Spring|  -26.5|   40.0|\n",
       "|2002|Summer|  -10.0|   35.5|\n",
       "|2002|Winter|  -42.0|   54.0|\n",
       "|2004|Autumn|  -34.3|   26.5|\n",
       "|2004|Spring|  -24.3|   27.0|\n",
       "|2004|Summer|  -48.5|   31.2|\n",
       "|2004|Winter|  -38.6|   29.4|\n",
       "|2006|Autumn|  -30.3|   28.0|\n",
       "|2006|Spring|  -24.6|   36.0|\n",
       "|2006|Summer|   -7.8|   41.0|\n",
       "|2006|Winter|  -41.3|   25.7|\n",
       "|2008|Autumn|  -31.8|   29.0|\n",
       "|2008|Spring|  -75.0|   34.0|\n",
       "|2008|Summer|   -6.1|   35.0|\n",
       "|2008|Winter|  -37.2|   23.0|\n",
       "+----+------+-------+-------+\n",
       "only showing top 20 rows"
      ]
     },
     "execution_count": 26,
     "metadata": {},
     "output_type": "execute_result"
    }
   ],
   "source": [
    "# Par saison\n",
    "min_max_tmp_by_season = all_stations.groupBy([year(\"DATE\").alias(\"year\"), \"season\"]).agg(F.min(\"temperature\").alias(\"min_tmp\"), F.max(\"temperature\").alias(\"max_tmp\"))\n",
    "min_max_tmp_by_season = min_max_tmp_by_season.sort(\"year\", \"season\")\n",
    "min_max_tmp_by_season"
   ]
  },
  {
   "cell_type": "code",
   "execution_count": null,
   "id": "focused-approval",
   "metadata": {},
   "outputs": [],
   "source": []
  },
  {
   "cell_type": "markdown",
   "id": "dimensional-favor",
   "metadata": {},
   "source": [
    "## Moyenne des Températures et des Elevations (niveau de la mer) par année"
   ]
  },
  {
   "cell_type": "code",
   "execution_count": 27,
   "id": "urban-blackberry",
   "metadata": {},
   "outputs": [
    {
     "data": {
      "text/plain": [
       "1056"
      ]
     },
     "execution_count": 27,
     "metadata": {},
     "output_type": "execute_result"
    }
   ],
   "source": [
    "mean_tmp_elevation_by_year = all_stations.groupBy([year(\"DATE\").alias(\"year\"), \"STATION\"]).agg(mean(\"temperature\").alias(\"mean_tmp\"), mean(\"ELEVATION\").alias(\"mean_elevation\"))\n",
    "mean_tmp_elevation_by_year = mean_tmp_elevation_by_year.sort(\"year\")\n",
    "mean_tmp_elevation_by_year.count()"
   ]
  },
  {
   "cell_type": "code",
   "execution_count": 28,
   "id": "animal-invalid",
   "metadata": {},
   "outputs": [],
   "source": [
    "df_pandas = mean_tmp_elevation_by_year.toPandas()"
   ]
  },
  {
   "cell_type": "code",
   "execution_count": 29,
   "id": "corresponding-custom",
   "metadata": {},
   "outputs": [
    {
     "data": {
      "text/html": [
       "<div>\n",
       "<style scoped>\n",
       "    .dataframe tbody tr th:only-of-type {\n",
       "        vertical-align: middle;\n",
       "    }\n",
       "\n",
       "    .dataframe tbody tr th {\n",
       "        vertical-align: top;\n",
       "    }\n",
       "\n",
       "    .dataframe thead th {\n",
       "        text-align: right;\n",
       "    }\n",
       "</style>\n",
       "<table border=\"1\" class=\"dataframe\">\n",
       "  <thead>\n",
       "    <tr style=\"text-align: right;\">\n",
       "      <th></th>\n",
       "      <th>year</th>\n",
       "      <th>STATION</th>\n",
       "      <th>mean_tmp</th>\n",
       "      <th>mean_elevation</th>\n",
       "    </tr>\n",
       "  </thead>\n",
       "  <tbody>\n",
       "    <tr>\n",
       "      <th>0</th>\n",
       "      <td>2000</td>\n",
       "      <td>2.036100e+09</td>\n",
       "      <td>-0.641496</td>\n",
       "      <td>468.0</td>\n",
       "    </tr>\n",
       "    <tr>\n",
       "      <th>1</th>\n",
       "      <td>2000</td>\n",
       "      <td>1.476100e+09</td>\n",
       "      <td>4.700000</td>\n",
       "      <td>5.0</td>\n",
       "    </tr>\n",
       "    <tr>\n",
       "      <th>2</th>\n",
       "      <td>2000</td>\n",
       "      <td>1.062100e+09</td>\n",
       "      <td>-3.052862</td>\n",
       "      <td>10.0</td>\n",
       "    </tr>\n",
       "    <tr>\n",
       "      <th>3</th>\n",
       "      <td>2000</td>\n",
       "      <td>1.446100e+09</td>\n",
       "      <td>3.702682</td>\n",
       "      <td>714.0</td>\n",
       "    </tr>\n",
       "    <tr>\n",
       "      <th>4</th>\n",
       "      <td>2000</td>\n",
       "      <td>1.103100e+09</td>\n",
       "      <td>-3.337736</td>\n",
       "      <td>47.0</td>\n",
       "    </tr>\n",
       "  </tbody>\n",
       "</table>\n",
       "</div>"
      ],
      "text/plain": [
       "   year       STATION  mean_tmp  mean_elevation\n",
       "0  2000  2.036100e+09 -0.641496           468.0\n",
       "1  2000  1.476100e+09  4.700000             5.0\n",
       "2  2000  1.062100e+09 -3.052862            10.0\n",
       "3  2000  1.446100e+09  3.702682           714.0\n",
       "4  2000  1.103100e+09 -3.337736            47.0"
      ]
     },
     "execution_count": 29,
     "metadata": {},
     "output_type": "execute_result"
    }
   ],
   "source": [
    "df_pandas.head()"
   ]
  },
  {
   "cell_type": "code",
   "execution_count": 30,
   "id": "exceptional-plain",
   "metadata": {},
   "outputs": [],
   "source": [
    "import seaborn as sns\n",
    "%matplotlib inline"
   ]
  },
  {
   "cell_type": "code",
   "execution_count": 31,
   "id": "medium-permit",
   "metadata": {},
   "outputs": [
    {
     "data": {
      "image/png": "[encoded data removed]",
      "text/plain": [
       "<Figure size 421.5x360 with 1 Axes>"
      ]
     },
     "metadata": {
      "needs_background": "light"
     },
     "output_type": "display_data"
    }
   ],
   "source": [
    "g = sns.relplot(x=\"mean_tmp\", y=\"mean_elevation\", hue=\"year\", data=df_pandas, palette ='magma')\n"
   ]
  },
  {
   "cell_type": "code",
   "execution_count": null,
   "id": "detailed-vehicle",
   "metadata": {},
   "outputs": [],
   "source": []
  },
  {
   "cell_type": "code",
   "execution_count": null,
   "id": "failing-turtle",
   "metadata": {},
   "outputs": [],
   "source": []
  },
  {
   "cell_type": "code",
   "execution_count": null,
   "id": "personal-myanmar",
   "metadata": {},
   "outputs": [],
   "source": []
  },
  {
   "cell_type": "code",
   "execution_count": null,
   "id": "happy-miniature",
   "metadata": {},
   "outputs": [],
   "source": []
  },
  {
   "cell_type": "code",
   "execution_count": null,
   "id": "material-stick",
   "metadata": {},
   "outputs": [],
   "source": []
  },
  {
   "cell_type": "code",
   "execution_count": null,
   "id": "contemporary-prairie",
   "metadata": {},
   "outputs": [],
   "source": []
  }
 ],
 "metadata": {
  "kernelspec": {
   "display_name": "Python 3",
   "language": "python",
   "name": "python3"
  },
  "language_info": {
   "codemirror_mode": {
    "name": "ipython",
    "version": 3
   },
   "file_extension": ".py",
   "mimetype": "text/x-python",
   "name": "python",
   "nbconvert_exporter": "python",
   "pygments_lexer": "ipython3",
   "version": "3.8.6"
  }
 },
 "nbformat": 4,
 "nbformat_minor": 5
}
